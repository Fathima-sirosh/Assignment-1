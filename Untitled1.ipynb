{
  "nbformat": 4,
  "nbformat_minor": 0,
  "metadata": {
    "colab": {
      "name": "Untitled1.ipynb",
      "provenance": [],
      "toc_visible": true,
      "authorship_tag": "ABX9TyM9/AH9Hb+ehtXZTXAFiCw7",
      "include_colab_link": true
    },
    "kernelspec": {
      "name": "python3",
      "display_name": "Python 3"
    },
    "language_info": {
      "name": "python"
    }
  },
  "cells": [
    {
      "cell_type": "markdown",
      "metadata": {
        "id": "view-in-github",
        "colab_type": "text"
      },
      "source": [
        "<a href=\"https://colab.research.google.com/github/Fathima-sirosh/Assignment-1/blob/main/Untitled1.ipynb\" target=\"_parent\"><img src=\"https://colab.research.google.com/assets/colab-badge.svg\" alt=\"Open In Colab\"/></a>"
      ]
    },
    {
      "cell_type": "code",
      "execution_count": null,
      "metadata": {
        "colab": {
          "base_uri": "https://localhost:8080/"
        },
        "id": "zPr-teFTY3D4",
        "outputId": "4d240b9b-a3d2-4b6d-9de3-fddb73b2539c"
      },
      "outputs": [
        {
          "output_type": "stream",
          "name": "stdout",
          "text": [
            "Enter numbers: 46 34 20 98 55\n",
            "Sum:  253\n"
          ]
        }
      ],
      "source": [
        "\n",
        "x = [int(i) for i in input('Enter numbers: ').split()]\n",
        "s = 0\n",
        "for i in x:\n",
        "  s += i\n",
        "print('Sum: ', s)"
      ]
    }
  ]
}